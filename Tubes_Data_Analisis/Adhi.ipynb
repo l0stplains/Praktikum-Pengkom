{
 "cells": [
  {
   "cell_type": "markdown",
   "metadata": {},
   "source": [
    "### **Korelasi**\n",
    "##### *Korelasi Antara No. of Internet Users di dunia dengan Broadband Subscription*\n",
    "###### Dalam korelasi ini kami memutuskan untuk mencari hubungan antara No. of Internet Users di dunia dengan Broadband Subscription karena hal tersebut kami perlu untuk memfilter data entitas \"World\" dengan fungsi dari pandas yaitu: df_world = df[df[\"Entity\"] == \"World\"]\n",
    "###### Setelah mendapatkan data yang kami perlukan, kami dapat membuat nilai korelasinya dengan menggunakan fungsi dari library pandas yaitu: df_world[\"No. of Internet Users\"].corr(df_world[\"Broadband Subscription\"])"
   ]
  },
  {
   "cell_type": "code",
   "execution_count": null,
   "metadata": {},
   "outputs": [],
   "source": [
    "df_world = df[df[\"Entity\"] == \"World\"]\n",
    "\n",
    "# Menghitung korelasi antara No. of Internet Users dan Broadband Subscription untuk entitas \"World\"\n",
    "Korelasi_world = df_world[\"No. of Internet Users\"].corr(df_world[\"Broadband Subscription\"])\n",
    "print (f\"Hasil Korelasi antara No. of Internet Users di dunia dengan Broadband Subscription adalah {korelasi_world}\")"
   ]
  },
  {
   "cell_type": "markdown",
   "metadata": {},
   "source": [
    "\n",
    "##### *Korelasi Antara No. of Internet Users di dunia dengan Cellular Subscription*\n",
    "###### Dalam korelasi ini kami memutuskan untuk mencari hubungan antara No. of Internet Users di dunia dengan Cellular Subscription karena hal tersebut kami perlu untuk memfilter data entitas \"World\" dengan fungsi dari pandas yaitu: df_world = df[df[\"Entity\"] == \"World\"]\n",
    "###### Setelah mendapatkan data yang kami perlukan, kami dapat membuat nilai korelasinya dengan menggunakan fungsi dari library pandas yaitu: df_world[\"No. of Internet Users\"].corr(df_world[\"Cellular Subscription\"])"
   ]
  },
  {
   "cell_type": "code",
   "execution_count": 1,
   "metadata": {},
   "outputs": [
    {
     "ename": "NameError",
     "evalue": "name 'df' is not defined",
     "output_type": "error",
     "traceback": [
      "\u001b[1;31m---------------------------------------------------------------------------\u001b[0m",
      "\u001b[1;31mNameError\u001b[0m                                 Traceback (most recent call last)",
      "\u001b[1;32mc:\\Users\\adhis\\OneDrive - Institut Teknologi Bandung\\File Kuliah\\Tugas\\Pengkom\\.vscode\\TUBES\\Adhi.ipynb Cell 4\u001b[0m line \u001b[0;36m1\n\u001b[1;32m----> <a href='vscode-notebook-cell:/c%3A/Users/adhis/OneDrive%20-%20Institut%20Teknologi%20Bandung/File%20Kuliah/Tugas/Pengkom/.vscode/TUBES/Adhi.ipynb#X11sZmlsZQ%3D%3D?line=0'>1</a>\u001b[0m df_world \u001b[39m=\u001b[39m df[df[\u001b[39m\"\u001b[39m\u001b[39mEntity\u001b[39m\u001b[39m\"\u001b[39m] \u001b[39m==\u001b[39m \u001b[39m\"\u001b[39m\u001b[39mWorld\u001b[39m\u001b[39m\"\u001b[39m]\n\u001b[0;32m      <a href='vscode-notebook-cell:/c%3A/Users/adhis/OneDrive%20-%20Institut%20Teknologi%20Bandung/File%20Kuliah/Tugas/Pengkom/.vscode/TUBES/Adhi.ipynb#X11sZmlsZQ%3D%3D?line=2'>3</a>\u001b[0m \u001b[39m# Menghitung korelasi antara No. of Internet Users dan Cellular Subscription untuk entitas \"World\"\u001b[39;00m\n\u001b[0;32m      <a href='vscode-notebook-cell:/c%3A/Users/adhis/OneDrive%20-%20Institut%20Teknologi%20Bandung/File%20Kuliah/Tugas/Pengkom/.vscode/TUBES/Adhi.ipynb#X11sZmlsZQ%3D%3D?line=3'>4</a>\u001b[0m korelasi_world \u001b[39m=\u001b[39m df_world[\u001b[39m\"\u001b[39m\u001b[39mNo. of Internet Users\u001b[39m\u001b[39m\"\u001b[39m]\u001b[39m.\u001b[39mcorr(df_world[\u001b[39m\"\u001b[39m\u001b[39mCellular Subscription\u001b[39m\u001b[39m\"\u001b[39m])\n",
      "\u001b[1;31mNameError\u001b[0m: name 'df' is not defined"
     ]
    }
   ],
   "source": [
    "df_world = df[df[\"Entity\"] == \"World\"]\n",
    "\n",
    "# Menghitung korelasi antara No. of Internet Users dan Cellular Subscription untuk entitas \"World\"\n",
    "korelasi_world = df_world[\"No. of Internet Users\"].corr(df_world[\"Cellular Subscription\"])\n",
    "print (f\"Hasil Korelasi antara No. of Internet Users di dunia dengan Cellular Subscription adalah {korelasi_world}\")"
   ]
  },
  {
   "cell_type": "markdown",
   "metadata": {},
   "source": [
    "\n",
    "##### *Menampilkan Visualisasi Korelasi antara No. of Internet Users di dunia dengan Broadband Subscription dan No. of Internet Users di dunia dengan Cellular Subscription*\n",
    "###### Untuk menampilkan visualisasi data Plotting relationships kami menggunakan Library plotly.express agar visualisasi data tetlihat lebih menarik, untuk membuat visualisasi data scatter plot kita dapat menggunakan fungsi px.scatter(). Dengan fungsi itu kita dapat mengcustom isi dari grafik sesuai apa yang kita butuhkan"
   ]
  },
  {
   "cell_type": "code",
   "execution_count": null,
   "metadata": {},
   "outputs": [],
   "source": [
    "# Filter data untuk hanya menyertakan entitas dengan nama \"World\"\n",
    "df_world = df[df[\"Entity\"] == \"World\"]\n",
    "\n",
    "# No. of Internet Users di dunia dengan Broadband Subscription\n",
    "fig = px.scatter(df_world,\n",
    "                 hover_name = \"Year\",\n",
    "                 x = \"No. of Internet Users\",\n",
    "                 y = \"Broadband Subscription\",\n",
    "                 title = \"Relationship between No. of Internet Users and Broadband Subscription (World)\",\n",
    "                 labels = {\"No. of Internet Users\": \"No. of Internet Users\", \"Broadband Subscription\": \"Broadband Subscription\"},\n",
    "                 size_max = 0,)\n",
    "\n",
    "# Menampilkan plot\n",
    "fig.show()\n",
    "\n",
    "# No. of Internet Users di dunia dengan Cellular Subscription\n",
    "fig = px.scatter(df_world,\n",
    "                 hover_name = \"Year\",\n",
    "                 x = \"No. of Internet Users\",\n",
    "                 y = \"Cellular Subscription\",\n",
    "                 title = \"Relationship between No. of Internet Users and Cellular Subscription (World)\",\n",
    "                 labels = {\"No. of Internet Users\": \"No. of Internet Users\", \"Cellular Subscription\": \"Cellular Subscription\"},\n",
    "                 size_max = 0,)\n",
    "\n",
    "# Menampilkan plot\n",
    "fig.show()"
   ]
  },
  {
   "cell_type": "markdown",
   "metadata": {},
   "source": [
    "###### Dari hasil angka korelasi (0.9944531342850016 dan 0.976542430160288) dan hasil dari visualisasi data dapat dilihat bahwa terdapat hubungan yang sangat lurus (positif). Oleh sebab itu dapat disimpulkan bahwa jumlah No. of Internet Users sangat berhubungan dengan jumlah Broadband Subscription dan Cellular Subscription\n"
   ]
  },
  {
   "cell_type": "markdown",
   "metadata": {},
   "source": [
    "### **Plotting relationships**\n",
    "##### *Plotting relationships antara Cellular Subscription dengan Broadband Subscription Seluruh Dunia*\n",
    "###### Untuk menampilkan visualisasi data Plotting relationships kami menggunakan Library plotly.express agar visualisasi data tetlihat lebih menarik, untuk membuat visualisasi data scatter plot kita dapat menggunakan fungsi px.scatter(). Dengan fungsi itu kita dapat mengcustom isi dari grafik sesuai apa yang kita butuhkan."
   ]
  },
  {
   "cell_type": "code",
   "execution_count": null,
   "metadata": {},
   "outputs": [],
   "source": [
    "fig = px.scatter(df,\n",
    "                 x = \"Cellular Subscription\",\n",
    "                 y = \"Broadband Subscription\",\n",
    "                 color = \"Entity\",\n",
    "                 text = \"Year\",\n",
    "                 title = \"Relationship between Cellular Subscription and Broadband Subscription\",\n",
    "                 labels = {\"Cellular Subscription\": \"Cellular Subscription\", \"Broadband Subscription\": \"Broadband Subscription\"},\n",
    "                 size_max = 20)\n",
    "\n",
    "# Menampilkan plot\n",
    "fig.show()"
   ]
  },
  {
   "cell_type": "markdown",
   "metadata": {},
   "source": [
    "###### Dari visualisasi data yang sudah kami buat terdapat beberapa insight, yaitu:\n",
    "###### 1. Scatter plot ini dapat memberikan gambaran hubungan antara Cellular Subscription dan Broadband Subscription. Jika titik-titik cenderung membentuk pola diagonal dari kiri bawah ke kanan atas, itu mungkin menunjukkan adanya korelasi positif antara keduanya.\n",
    "###### 2. Dengan rumus: korelasi_dunia = df['Cellular Subscription'].corr(df['Broadband Subscription']) didapatkan hasil korelasi 0.6853729064574609, nilai tersebut sudah cukup untuk menunjukkan bahwa hubungan antara Cellular Subscription dengan Broadband Subscription diseluruh dunia memiliki korelasi yang cukup terbilang lurus.\n",
    "###### 3. Setiap pergantian tahun data dari Cellular Subscription dan Broadband Subscription  meningkat, ini juga cukup membuktikan bahwa cenderung memiliki korelasi yang baik antar keduanya.\n",
    "###### 4. Terlihat sebuah anomali di beberapa negara contoh \"Macao dan Hong Kong\" dari visualisasi data tersebut bahwa di Negara Macao pengguna Cellular Subscription mengalami lonjakan yang signifikan dimulai tahun 2008"
   ]
  },
  {
   "cell_type": "markdown",
   "metadata": {},
   "source": [
    "\n",
    "##### *Plotting relationships antara Cellular Subscription dengan Broadband Subscription Benua Eropa*\n",
    "###### Untuk menampilkan visualisasi data Plotting relationships kami menggunakan Library plotly.express agar visualisasi data tetlihat lebih menarik, untuk membuat visualisasi data scatter plot kita dapat menggunakan fungsi px.scatter(). Dengan fungsi itu kita dapat mengcustom isi dari grafik sesuai apa yang kita butuhkan\n",
    "\n"
   ]
  },
  {
   "cell_type": "code",
   "execution_count": null,
   "metadata": {},
   "outputs": [],
   "source": [
    "# Filter data hanya untuk benua Eropa\n",
    "df_Europe = df[df[\"Continent\"].isin([\"Europe\"])]\n",
    "\n",
    "# Plotting scatter plot dengan Plotly Express\n",
    "fig = px.scatter(df_Europe,\n",
    "                 x = \"Cellular Subscription\",\n",
    "                 y = \"Broadband Subscription\",\n",
    "                 color = \"Entity\",\n",
    "                 text = \"Year\",\n",
    "                 title = \"Relationship between Cellular Subscription and Broadband Subscription in Europe\",\n",
    "                 labels = {\"Cellular Subscription\": \"Cellular Subscription\", \"Broadband Subscription\": \"Broadband Subscription\"},\n",
    "                 size_max = 20)\n",
    "\n",
    "# Menampilkan plot\n",
    "fig.show()"
   ]
  },
  {
   "cell_type": "markdown",
   "metadata": {},
   "source": [
    "###### Dari visualisasi data yang sudah kami buat terdapat beberapa insight, yaitu:\n",
    "###### 1. Scatter plot ini dapat memberikan gambaran hubungan antara Cellular Subscription dan Broadband Subscription. Jika titik-titik cenderung membentuk pola diagonal dari kiri bawah ke kanan atas, itu mungkin menunjukkan adanya korelasi positif antara keduanya.\n",
    "###### 2. Dengan rumus: korelasi_europe = df_europe['Cellular Subscription'].corr(df_europe['Broadband Subscription']) didapatkan hasil korelasi 0.8170319696333801, nilai tersebut sudah cukup untuk menunjukkan bahwa hubungan antara Cellular Subscription dengan Broadband Subscription Benua Eropa memiliki korelasi yang cukup lurus.\n",
    "###### 3. Dari visualisasi data dapat dilihat jumlah pelanggan Cellular Subscription terbanyak di Benua Eropa adalah Finland\n",
    "###### 4. Dari visualisasi data dapat dilihat jumlah pelanggan Broadband Subscription terbanyak di Benua Eropa adalah Monaco\n"
   ]
  },
  {
   "cell_type": "code",
   "execution_count": null,
   "metadata": {},
   "outputs": [],
   "source": []
  }
 ],
 "metadata": {
  "kernelspec": {
   "display_name": "Python 3 (ipykernel)",
   "language": "python",
   "name": "python3"
  },
  "language_info": {
   "codemirror_mode": {
    "name": "ipython",
    "version": 3
   },
   "file_extension": ".py",
   "mimetype": "text/x-python",
   "name": "python",
   "nbconvert_exporter": "python",
   "pygments_lexer": "ipython3",
   "version": "3.10.9"
  }
 },
 "nbformat": 4,
 "nbformat_minor": 2
}
