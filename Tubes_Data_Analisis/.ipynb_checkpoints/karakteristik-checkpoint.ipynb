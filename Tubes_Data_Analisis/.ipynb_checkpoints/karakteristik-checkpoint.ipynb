{
 "cells": [
  {
   "cell_type": "markdown",
   "id": "1a36a91a",
   "metadata": {},
   "source": []
  },
  {
   "cell_type": "code",
   "execution_count": null,
   "id": "6ab30252",
   "metadata": {},
   "outputs": [],
   "source": []
  },
  {
   "cell_type": "markdown",
   "id": "84a44b08",
   "metadata": {},
   "source": []
  },
  {
   "cell_type": "code",
   "execution_count": 1,
   "id": "96824914",
   "metadata": {},
   "outputs": [],
   "source": [
    "import numpy as np\n",
    "import pandas as pd\n",
    "import matplotlib.pyplot as plt"
   ]
  },
  {
   "cell_type": "code",
   "execution_count": 2,
   "id": "dd4a59e6",
   "metadata": {},
   "outputs": [],
   "source": [
    "df = pd.read_csv(\"dataset.csv\")"
   ]
  },
  {
   "cell_type": "code",
   "execution_count": 3,
   "id": "41a09d2b",
   "metadata": {},
   "outputs": [
    {
     "data": {
      "text/html": [
       "<div>\n",
       "<style scoped>\n",
       "    .dataframe tbody tr th:only-of-type {\n",
       "        vertical-align: middle;\n",
       "    }\n",
       "\n",
       "    .dataframe tbody tr th {\n",
       "        vertical-align: top;\n",
       "    }\n",
       "\n",
       "    .dataframe thead th {\n",
       "        text-align: right;\n",
       "    }\n",
       "</style>\n",
       "<table border=\"1\" class=\"dataframe\">\n",
       "  <thead>\n",
       "    <tr style=\"text-align: right;\">\n",
       "      <th></th>\n",
       "      <th>Unnamed: 0</th>\n",
       "      <th>Entity</th>\n",
       "      <th>Code</th>\n",
       "      <th>Continent</th>\n",
       "      <th>Year</th>\n",
       "      <th>No. of Internet Users</th>\n",
       "      <th>Internet Users(%)</th>\n",
       "      <th>Cellular Subscription</th>\n",
       "      <th>Broadband Subscription</th>\n",
       "    </tr>\n",
       "  </thead>\n",
       "  <tbody>\n",
       "    <tr>\n",
       "      <th>0</th>\n",
       "      <td>0</td>\n",
       "      <td>Afghanistan</td>\n",
       "      <td>AFG</td>\n",
       "      <td>Asia</td>\n",
       "      <td>1980</td>\n",
       "      <td>0</td>\n",
       "      <td>0.0</td>\n",
       "      <td>0.0</td>\n",
       "      <td>0.0</td>\n",
       "    </tr>\n",
       "    <tr>\n",
       "      <th>1</th>\n",
       "      <td>1</td>\n",
       "      <td>Afghanistan</td>\n",
       "      <td>AFG</td>\n",
       "      <td>Asia</td>\n",
       "      <td>1981</td>\n",
       "      <td>0</td>\n",
       "      <td>0.0</td>\n",
       "      <td>0.0</td>\n",
       "      <td>0.0</td>\n",
       "    </tr>\n",
       "    <tr>\n",
       "      <th>2</th>\n",
       "      <td>2</td>\n",
       "      <td>Afghanistan</td>\n",
       "      <td>AFG</td>\n",
       "      <td>Asia</td>\n",
       "      <td>1982</td>\n",
       "      <td>0</td>\n",
       "      <td>0.0</td>\n",
       "      <td>0.0</td>\n",
       "      <td>0.0</td>\n",
       "    </tr>\n",
       "    <tr>\n",
       "      <th>3</th>\n",
       "      <td>3</td>\n",
       "      <td>Afghanistan</td>\n",
       "      <td>AFG</td>\n",
       "      <td>Asia</td>\n",
       "      <td>1983</td>\n",
       "      <td>0</td>\n",
       "      <td>0.0</td>\n",
       "      <td>0.0</td>\n",
       "      <td>0.0</td>\n",
       "    </tr>\n",
       "    <tr>\n",
       "      <th>4</th>\n",
       "      <td>4</td>\n",
       "      <td>Afghanistan</td>\n",
       "      <td>AFG</td>\n",
       "      <td>Asia</td>\n",
       "      <td>1984</td>\n",
       "      <td>0</td>\n",
       "      <td>0.0</td>\n",
       "      <td>0.0</td>\n",
       "      <td>0.0</td>\n",
       "    </tr>\n",
       "  </tbody>\n",
       "</table>\n",
       "</div>"
      ],
      "text/plain": [
       "   Unnamed: 0       Entity Code Continent  Year  No. of Internet Users  \\\n",
       "0           0  Afghanistan  AFG      Asia  1980                      0   \n",
       "1           1  Afghanistan  AFG      Asia  1981                      0   \n",
       "2           2  Afghanistan  AFG      Asia  1982                      0   \n",
       "3           3  Afghanistan  AFG      Asia  1983                      0   \n",
       "4           4  Afghanistan  AFG      Asia  1984                      0   \n",
       "\n",
       "   Internet Users(%)  Cellular Subscription  Broadband Subscription  \n",
       "0                0.0                    0.0                     0.0  \n",
       "1                0.0                    0.0                     0.0  \n",
       "2                0.0                    0.0                     0.0  \n",
       "3                0.0                    0.0                     0.0  \n",
       "4                0.0                    0.0                     0.0  "
      ]
     },
     "execution_count": 3,
     "metadata": {},
     "output_type": "execute_result"
    }
   ],
   "source": [
    "df.head()"
   ]
  },
  {
   "cell_type": "code",
   "execution_count": 7,
   "id": "ab785508",
   "metadata": {},
   "outputs": [
    {
     "name": "stdout",
     "output_type": "stream",
     "text": [
      "<class 'pandas.core.frame.DataFrame'>\n",
      "RangeIndex: 6888 entries, 0 to 6887\n",
      "Data columns (total 9 columns):\n",
      " #   Column                  Non-Null Count  Dtype  \n",
      "---  ------                  --------------  -----  \n",
      " 0   Unnamed: 0              6888 non-null   int64  \n",
      " 1   Entity                  6888 non-null   object \n",
      " 2   Code                    6888 non-null   object \n",
      " 3   Continent               6888 non-null   object \n",
      " 4   Year                    6888 non-null   int64  \n",
      " 5   No. of Internet Users   6888 non-null   int64  \n",
      " 6   Internet Users(%)       6888 non-null   float64\n",
      " 7   Cellular Subscription   6888 non-null   float64\n",
      " 8   Broadband Subscription  6888 non-null   float64\n",
      "dtypes: float64(3), int64(3), object(3)\n",
      "memory usage: 484.4+ KB\n"
     ]
    }
   ],
   "source": [
    "df.info()"
   ]
  },
  {
   "cell_type": "markdown",
   "id": "9595c75a",
   "metadata": {},
   "source": [
    "\n",
    "Berikut adalah penjelasan mengenai atribut/kolom pada dataset yang diberikan:\n",
    "\n",
    "1.  **Entity**: Atribut ini menunjukkan nama entitas daerah atau negara yang direpresentasikan dalam baris data tersebut. Ini merupakan atribut kategorikal nominal, karena nilai-nilainya hanya merupakan label atau nama tanpa adanya tingkatan atau urutan tertentu. Contoh nilai: \"Afghanistan\", \"Indonesia\", \"World\".\n",
    "    \n",
    "2.  **Code**: Ini adalah kode representatif untuk setiap entitas atau negara. Sama seperti \"Entity\", atribut ini juga bersifat kategorikal nominal. Contoh nilai: \"AFG\" untuk Afghanistan, \"IND\" untuk Indonesia.\n",
    "    \n",
    "3.  **Continent**: Menunjukkan benua tempat negara berada. Atribut ini juga kategorikal nominal. Contoh nilai: \"Asia\", \"Europe\".\n",
    "    \n",
    "4.  **Year**: Menunjukkan tahun dari data yang dicatat. Ini adalah atribut kuantitatif diskrit karena nilainya adalah tahun-tahun tertentu. Range nilai tergantung pada data yang ada dalam dataset yaitu 1980-2020.\n",
    "    \n",
    "5.  **No. of Internet Users**: Jumlah pengguna internet pada tahun dan negara tertentu. Ini adalah atribut kuantitatif karena nilainya berupa angka yang dapat diukur. Range nilai tergantung pada data yang ada dalam dataset.\n",
    "    \n",
    "6.  **Internet Users (%)**: Persentase populasi yang menggunakan internet. Ini adalah atribut kuantitatif dengan nilai dalam bentuk persentase. Range nilai antara 0 dan 100.\n",
    "    \n",
    "7.  **Cellular Subscription**: Jumlah langganan seluler per 100 orang. Ini adalah atribut kuantitatif dengan nilai dalam bentuk persentase. Range nilai antara 0 dan nilai tertinggi dalam dataset.\n",
    "    \n",
    "8.  **Broadband Subscription**: Jumlah langganan broadband per 100 orang. Ini adalah atribut kuantitatif dengan nilai dalam bentuk persentase. Range nilai antara 0 dan nilai tertinggi dalam dataset."
   ]
  },
  {
   "cell_type": "code",
   "execution_count": null,
   "id": "44395b1a",
   "metadata": {},
   "outputs": [],
   "source": []
  }
 ],
 "metadata": {
  "kernelspec": {
   "display_name": "Python 3 (ipykernel)",
   "language": "python",
   "name": "python3"
  },
  "language_info": {
   "codemirror_mode": {
    "name": "ipython",
    "version": 3
   },
   "file_extension": ".py",
   "mimetype": "text/x-python",
   "name": "python",
   "nbconvert_exporter": "python",
   "pygments_lexer": "ipython3",
   "version": "3.10.9"
  }
 },
 "nbformat": 4,
 "nbformat_minor": 5
}
