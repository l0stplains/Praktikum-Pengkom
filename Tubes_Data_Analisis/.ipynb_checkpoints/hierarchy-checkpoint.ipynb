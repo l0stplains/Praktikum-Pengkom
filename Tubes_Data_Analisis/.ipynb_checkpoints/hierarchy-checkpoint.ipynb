{
 "cells": [
  {
   "cell_type": "code",
   "execution_count": 4,
   "metadata": {},
   "outputs": [],
   "source": [
    "import pandas as pd\n",
    "import matplotlib.pyplot as plt\n",
    "import numpy as np\n",
    "from scipy.cluster import hierarchy"
   ]
  },
  {
   "cell_type": "code",
   "execution_count": 5,
   "metadata": {},
   "outputs": [
    {
     "data": {
      "text/html": [
       "<div>\n",
       "<style scoped>\n",
       "    .dataframe tbody tr th:only-of-type {\n",
       "        vertical-align: middle;\n",
       "    }\n",
       "\n",
       "    .dataframe tbody tr th {\n",
       "        vertical-align: top;\n",
       "    }\n",
       "\n",
       "    .dataframe thead th {\n",
       "        text-align: right;\n",
       "    }\n",
       "</style>\n",
       "<table border=\"1\" class=\"dataframe\">\n",
       "  <thead>\n",
       "    <tr style=\"text-align: right;\">\n",
       "      <th></th>\n",
       "      <th>Unnamed: 0</th>\n",
       "      <th>Entity</th>\n",
       "      <th>Code</th>\n",
       "      <th>Continent</th>\n",
       "      <th>Year</th>\n",
       "      <th>No. of Internet Users</th>\n",
       "      <th>Internet Users(%)</th>\n",
       "      <th>Cellular Subscription</th>\n",
       "      <th>Broadband Subscription</th>\n",
       "    </tr>\n",
       "  </thead>\n",
       "  <tbody>\n",
       "    <tr>\n",
       "      <th>0</th>\n",
       "      <td>0</td>\n",
       "      <td>Afghanistan</td>\n",
       "      <td>AFG</td>\n",
       "      <td>Asia</td>\n",
       "      <td>1980</td>\n",
       "      <td>0</td>\n",
       "      <td>0.000000</td>\n",
       "      <td>0.000000</td>\n",
       "      <td>0.000000</td>\n",
       "    </tr>\n",
       "    <tr>\n",
       "      <th>1</th>\n",
       "      <td>1</td>\n",
       "      <td>Afghanistan</td>\n",
       "      <td>AFG</td>\n",
       "      <td>Asia</td>\n",
       "      <td>1981</td>\n",
       "      <td>0</td>\n",
       "      <td>0.000000</td>\n",
       "      <td>0.000000</td>\n",
       "      <td>0.000000</td>\n",
       "    </tr>\n",
       "    <tr>\n",
       "      <th>2</th>\n",
       "      <td>2</td>\n",
       "      <td>Afghanistan</td>\n",
       "      <td>AFG</td>\n",
       "      <td>Asia</td>\n",
       "      <td>1982</td>\n",
       "      <td>0</td>\n",
       "      <td>0.000000</td>\n",
       "      <td>0.000000</td>\n",
       "      <td>0.000000</td>\n",
       "    </tr>\n",
       "    <tr>\n",
       "      <th>3</th>\n",
       "      <td>3</td>\n",
       "      <td>Afghanistan</td>\n",
       "      <td>AFG</td>\n",
       "      <td>Asia</td>\n",
       "      <td>1983</td>\n",
       "      <td>0</td>\n",
       "      <td>0.000000</td>\n",
       "      <td>0.000000</td>\n",
       "      <td>0.000000</td>\n",
       "    </tr>\n",
       "    <tr>\n",
       "      <th>4</th>\n",
       "      <td>4</td>\n",
       "      <td>Afghanistan</td>\n",
       "      <td>AFG</td>\n",
       "      <td>Asia</td>\n",
       "      <td>1984</td>\n",
       "      <td>0</td>\n",
       "      <td>0.000000</td>\n",
       "      <td>0.000000</td>\n",
       "      <td>0.000000</td>\n",
       "    </tr>\n",
       "    <tr>\n",
       "      <th>...</th>\n",
       "      <td>...</td>\n",
       "      <td>...</td>\n",
       "      <td>...</td>\n",
       "      <td>...</td>\n",
       "      <td>...</td>\n",
       "      <td>...</td>\n",
       "      <td>...</td>\n",
       "      <td>...</td>\n",
       "      <td>...</td>\n",
       "    </tr>\n",
       "    <tr>\n",
       "      <th>6883</th>\n",
       "      <td>8862</td>\n",
       "      <td>Zimbabwe</td>\n",
       "      <td>ZWE</td>\n",
       "      <td>Africa</td>\n",
       "      <td>2016</td>\n",
       "      <td>3341464</td>\n",
       "      <td>23.119989</td>\n",
       "      <td>91.793457</td>\n",
       "      <td>1.217633</td>\n",
       "    </tr>\n",
       "    <tr>\n",
       "      <th>6884</th>\n",
       "      <td>8863</td>\n",
       "      <td>Zimbabwe</td>\n",
       "      <td>ZWE</td>\n",
       "      <td>Africa</td>\n",
       "      <td>2017</td>\n",
       "      <td>3599269</td>\n",
       "      <td>24.400000</td>\n",
       "      <td>98.985077</td>\n",
       "      <td>1.315694</td>\n",
       "    </tr>\n",
       "    <tr>\n",
       "      <th>6885</th>\n",
       "      <td>8864</td>\n",
       "      <td>Zimbabwe</td>\n",
       "      <td>ZWE</td>\n",
       "      <td>Africa</td>\n",
       "      <td>2018</td>\n",
       "      <td>3763048</td>\n",
       "      <td>25.000000</td>\n",
       "      <td>89.404869</td>\n",
       "      <td>1.406322</td>\n",
       "    </tr>\n",
       "    <tr>\n",
       "      <th>6886</th>\n",
       "      <td>8865</td>\n",
       "      <td>Zimbabwe</td>\n",
       "      <td>ZWE</td>\n",
       "      <td>Africa</td>\n",
       "      <td>2019</td>\n",
       "      <td>3854006</td>\n",
       "      <td>25.100000</td>\n",
       "      <td>90.102287</td>\n",
       "      <td>1.395818</td>\n",
       "    </tr>\n",
       "    <tr>\n",
       "      <th>6887</th>\n",
       "      <td>8866</td>\n",
       "      <td>Zimbabwe</td>\n",
       "      <td>ZWE</td>\n",
       "      <td>Africa</td>\n",
       "      <td>2020</td>\n",
       "      <td>4591211</td>\n",
       "      <td>29.299999</td>\n",
       "      <td>88.755806</td>\n",
       "      <td>1.368916</td>\n",
       "    </tr>\n",
       "  </tbody>\n",
       "</table>\n",
       "<p>6888 rows × 9 columns</p>\n",
       "</div>"
      ],
      "text/plain": [
       "      Unnamed: 0       Entity Code Continent  Year  No. of Internet Users  \\\n",
       "0              0  Afghanistan  AFG      Asia  1980                      0   \n",
       "1              1  Afghanistan  AFG      Asia  1981                      0   \n",
       "2              2  Afghanistan  AFG      Asia  1982                      0   \n",
       "3              3  Afghanistan  AFG      Asia  1983                      0   \n",
       "4              4  Afghanistan  AFG      Asia  1984                      0   \n",
       "...          ...          ...  ...       ...   ...                    ...   \n",
       "6883        8862     Zimbabwe  ZWE    Africa  2016                3341464   \n",
       "6884        8863     Zimbabwe  ZWE    Africa  2017                3599269   \n",
       "6885        8864     Zimbabwe  ZWE    Africa  2018                3763048   \n",
       "6886        8865     Zimbabwe  ZWE    Africa  2019                3854006   \n",
       "6887        8866     Zimbabwe  ZWE    Africa  2020                4591211   \n",
       "\n",
       "      Internet Users(%)  Cellular Subscription  Broadband Subscription  \n",
       "0              0.000000               0.000000                0.000000  \n",
       "1              0.000000               0.000000                0.000000  \n",
       "2              0.000000               0.000000                0.000000  \n",
       "3              0.000000               0.000000                0.000000  \n",
       "4              0.000000               0.000000                0.000000  \n",
       "...                 ...                    ...                     ...  \n",
       "6883          23.119989              91.793457                1.217633  \n",
       "6884          24.400000              98.985077                1.315694  \n",
       "6885          25.000000              89.404869                1.406322  \n",
       "6886          25.100000              90.102287                1.395818  \n",
       "6887          29.299999              88.755806                1.368916  \n",
       "\n",
       "[6888 rows x 9 columns]"
      ]
     },
     "execution_count": 5,
     "metadata": {},
     "output_type": "execute_result"
    }
   ],
   "source": [
    "df = pd.read_csv(\"dataset.csv\")\n",
    "df"
   ]
  },
  {
   "cell_type": "code",
   "execution_count": 7,
   "metadata": {},
   "outputs": [
    {
     "data": {
      "text/plain": [
       "Continent\n",
       "Africa           1681\n",
       "Asia             1599\n",
       "Europe           1517\n",
       "North America     656\n",
       "Undefined         615\n",
       "South America     451\n",
       "Oceania           369\n",
       "Name: count, dtype: int64"
      ]
     },
     "execution_count": 7,
     "metadata": {},
     "output_type": "execute_result"
    }
   ],
   "source": [
    "df[\"Continent\"].value_counts()"
   ]
  },
  {
   "cell_type": "code",
   "execution_count": 19,
   "metadata": {},
   "outputs": [
    {
     "name": "stdout",
     "output_type": "stream",
     "text": [
      "12295264.792995622 1601036.2153480072 5257681.971654582 7230530.177383592 2743219.5320121953 1131724.8428184283\n"
     ]
    }
   ],
   "source": [
    "asia_intusermean = df[df[\"Continent\"] == \"Asia\"][\"No. of Internet Users\"].mean()\n",
    "africa_intusermean = df[df[\"Continent\"] == \"Africa\"][\"No. of Internet Users\"].mean()\n",
    "europe_intusermean = df[df[\"Continent\"] == \"Europe\"][\"No. of Internet Users\"].mean()\n",
    "samerica_intusermean = df[df[\"Continent\"] == \"South America\"][\"No. of Internet Users\"].mean()\n",
    "namerica_intusermean = df[df[\"Continent\"] == \"North America\"][\"No. of Internet Users\"].mean()\n",
    "oceania_intusermean = df[df[\"Continent\"] == \"Oceania\"][\"No. of Internet Users\"].mean()\n",
    "print(asia_intusermean, africa_intusermean, europe_intusermean, samerica_intusermean, namerica_intusermean, oceania_intusermean)"
   ]
  },
  {
   "cell_type": "code",
   "execution_count": 23,
   "metadata": {},
   "outputs": [
    {
     "data": {
      "image/png": "[encoded data removed]",
      "text/plain": [
       "<Figure size 640x480 with 1 Axes>"
      ]
     },
     "metadata": {},
     "output_type": "display_data"
    }
   ],
   "source": [
    "intusermean = [[i] for i in [asia_intusermean, africa_intusermean, europe_intusermean, samerica_intusermean, namerica_intusermean, oceania_intusermean]]\n",
    "intuserhie = hierarchy.linkage(intusermean, 'average')\n",
    "hie1 = hierarchy.dendrogram(intuserhie, labels=[\"Asia\", \"Africa\", \"Europe\", \"S America\", \"N America\", \"Oceania\"])\n",
    "plt.show()"
   ]
  },
  {
   "cell_type": "markdown",
   "metadata": {},
   "source": [
    "Dari dendrogram di atas, dapat dilihat hierarchy rata-rata jumlah pengguna internet dari 1980 hingga 2020 dari 6 benua di dunia. Hierarchy-nya adalah sebagai berikut: Afrika dan Oseania adalah dua benua dengan selisih rata-rata terkecil dengan selisih sekitar 500.000, diikuti dengan selisih kluster Afrika dan Oseania dengan Amerika Utara dengan selisih sekitar \n",
    "1,5 juta. Eropa dan Amerika Selatan memiliki selisih sekitar 2 juta dan kluster kedua benua tersebut mempunyai selisih sekitar 4,5 juta dengan kluster Amerika Utara, Afrika, dan Oseania. Terakhir, kluster kelima benua yang sudah disebut memiliki selisih sangat besar dengan benua Asia, yaitu sekitar 8,5 juta orang.\n",
    "\n",
    "Kesimpulannya, Asia mempunyai rata-rata jumlah pengguna internet yang selisihnya terbesar dengan lima benua lain. Dengan keenam benua, kedekatan datanya dari yang terdekat sampai yang terjauh secara berurutan adalah sebagai berikut: Afrika, Oseania, Amerika Utara, Eropa, Amerika Selatan, dan Asia."
   ]
  },
  {
   "cell_type": "code",
   "execution_count": 6,
   "metadata": {},
   "outputs": [
    {
     "name": "stdout",
     "output_type": "stream",
     "text": [
      "40.41729815069731 26.60502126429744 53.818379309527366 43.148459805831486 38.847715929169205 29.4142187473794\n"
     ]
    }
   ],
   "source": [
    "asia_cellsubmean = df[df[\"Continent\"] == \"Asia\"][\"Cellular Subscription\"].mean()\n",
    "africa_cellsubmean = df[df[\"Continent\"] == \"Africa\"][\"Cellular Subscription\"].mean()\n",
    "europe_cellsubmean = df[df[\"Continent\"] == \"Europe\"][\"Cellular Subscription\"].mean()\n",
    "samerica_cellsubmean = df[df[\"Continent\"] == \"South America\"][\"Cellular Subscription\"].mean()\n",
    "namerica_cellsubmean = df[df[\"Continent\"] == \"North America\"][\"Cellular Subscription\"].mean()\n",
    "oceania_cellsubmean = df[df[\"Continent\"] == \"Oceania\"][\"Cellular Subscription\"].mean()\n",
    "print(asia_cellsubmean, africa_cellsubmean, europe_cellsubmean, samerica_cellsubmean, namerica_cellsubmean, oceania_cellsubmean)"
   ]
  },
  {
   "cell_type": "code",
   "execution_count": 24,
   "metadata": {},
   "outputs": [
    {
     "data": {
      "image/png": "[encoded data removed]",
      "text/plain": [
       "<Figure size 640x480 with 1 Axes>"
      ]
     },
     "metadata": {},
     "output_type": "display_data"
    }
   ],
   "source": [
    "cellsubmean = [[i] for i in [asia_cellsubmean, africa_cellsubmean, europe_cellsubmean, samerica_cellsubmean, namerica_cellsubmean, oceania_cellsubmean]]\n",
    "cellsubhie = hierarchy.linkage(cellsubmean, 'average')\n",
    "hie2 = hierarchy.dendrogram(cellsubhie, labels=[\"Asia\", \"Africa\", \"Europe\", \"S America\", \"N America\", \"Oceania\"])\n",
    "plt.show()"
   ]
  },
  {
   "cell_type": "markdown",
   "metadata": {},
   "source": [
    "Dari dendrogram di atas, dapat dilihat rata-rata persentase cellular subscription per benua dari 1980 hingga 2020 mempunyai hierarchy: Asia dan Amerika Utara mempunyai nilai yang dekat (hanya selisih di bawah 2,5%), rata-rata dari rata-rata kedua benua tersebut mempunyai nilai yang dekat dengan Amerika Selatan (selisih di bawah 5%). Untuk Afrika dan Oseania juga mempunyai nilai yang dekat (selisih sedikit di atas 2,5%). Kluster Afrika dan Oseania dengan kluster Asia, America Utara, Amerika Selatan memiliki selisih sekitar 12,5%. Ini membuat Eropa menjadi benua dengan selisih terbesar dari benua lainnya dengan selisih antara Eropa dan kluster 5 benua lain adalah di atas 17,5%.\n",
    "\n",
    "Kesimpulannya, untuk cellular subscription, kedekatan data dari yang terdekat ke yang terjauh secara berurutan adalah Asia, Amerika Utara, Afrika, Oseania, Amerika Selatan, dan Eropa."
   ]
  },
  {
   "cell_type": "code",
   "execution_count": 22,
   "metadata": {},
   "outputs": [
    {
     "name": "stdout",
     "output_type": "stream",
     "text": [
      "2.699154721558474 0.48351922477572873 10.181532770479235 3.2440735242394676 3.8220845910182923 3.1841382043631437\n"
     ]
    }
   ],
   "source": [
    "asia_bbsubmean = df[df[\"Continent\"] == \"Asia\"][\"Broadband Subscription\"].mean()\n",
    "africa_bbsubmean = df[df[\"Continent\"] == \"Africa\"][\"Broadband Subscription\"].mean()\n",
    "europe_bbsubmean = df[df[\"Continent\"] == \"Europe\"][\"Broadband Subscription\"].mean()\n",
    "samerica_bbsubmean = df[df[\"Continent\"] == \"South America\"][\"Broadband Subscription\"].mean()\n",
    "namerica_bbsubmean = df[df[\"Continent\"] == \"North America\"][\"Broadband Subscription\"].mean()\n",
    "oceania_bbsubmean = df[df[\"Continent\"] == \"Oceania\"][\"Broadband Subscription\"].mean()\n",
    "print(asia_bbsubmean, africa_bbsubmean, europe_bbsubmean, samerica_bbsubmean, namerica_bbsubmean, oceania_bbsubmean)"
   ]
  },
  {
   "cell_type": "code",
   "execution_count": 25,
   "metadata": {},
   "outputs": [
    {
     "data": {
      "image/png": "[encoded data removed]",
      "text/plain": [
       "<Figure size 640x480 with 1 Axes>"
      ]
     },
     "metadata": {},
     "output_type": "display_data"
    }
   ],
   "source": [
    "bbsubmean = [[i] for i in [asia_bbsubmean, africa_bbsubmean, europe_bbsubmean, samerica_bbsubmean, namerica_bbsubmean, oceania_bbsubmean]]\n",
    "bbsubhie = hierarchy.linkage(bbsubmean, 'average')\n",
    "hie3 = hierarchy.dendrogram(bbsubhie, labels=[\"Asia\", \"Africa\", \"Europe\", \"S America\", \"N America\", \"Oceania\"])\n",
    "plt.show()"
   ]
  },
  {
   "cell_type": "markdown",
   "metadata": {},
   "source": [
    "Dari dendrogram di atas, dapat dilihat hierarchy dari rata-rata persentase broadband subscription per benua dari 1980 hingga 2020. Pertama, Oseania dan Amerika Selatan memiliki selisih terkecil antar keduanya dengan selisih mendekati 0,05%. Kluster kedua benua tersebut memiliki rata-rata yang selisihnya kedua terkecil dengan benua Asia, selisih tersebut adalah sekitar 0,5%. Kluster ketiga benua tersebut memiliki rata-rata yang selisih ketiga terkecil dengan Amerika Utara dengan selisih sekitar 0,8%. Berikutnya, terdapat selisih yang lebih signifikan antar rata-rata kluster keempat benua yang sudah disebut dengan Afrika, yaitu selisih sedikit di bawah 3,75%. Untuk selisih antar rata-rata kelima benua yang sudah disebut dengan Eropa sangat signifikan, yaitu selisih 7,5%.\n",
    "\n",
    "Kesimpulannya, untuk rata-rata broadband antar benua dari 1980 hingga 2020, Eropa memiliki data yang jauh dari kelima benua lainnya. Dengan hierarchy kedekatan data antar benua dari yang terdekat ke yang terjauh secara berurutan adalah sebagai berikut: Amerika Selatan, Oseania, Asia, Amerika Utara, Afrika, dan Eropa"
   ]
  },
  {
   "cell_type": "markdown",
   "metadata": {},
   "source": []
  }
 ],
 "metadata": {
  "kernelspec": {
   "display_name": "Python 3 (ipykernel)",
   "language": "python",
   "name": "python3"
  },
  "language_info": {
   "codemirror_mode": {
    "name": "ipython",
    "version": 3
   },
   "file_extension": ".py",
   "mimetype": "text/x-python",
   "name": "python",
   "nbconvert_exporter": "python",
   "pygments_lexer": "ipython3",
   "version": "3.10.9"
  }
 },
 "nbformat": 4,
 "nbformat_minor": 2
}
