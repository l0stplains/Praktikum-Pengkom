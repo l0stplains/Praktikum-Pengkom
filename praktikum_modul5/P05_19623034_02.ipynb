{
 "cells": [
  {
   "cell_type": "markdown",
   "id": "d29f08da",
   "metadata": {},
   "source": [
    "# Problem 2\n",
    "NIM/Nama : 19623034/Refki Alfarizi\\\n",
    "Tanggal  : 16 November 2023\\\n",
    "Deskripsi: Diberikan data harga rumah yang disewakan di Airbnb di Singapura. Tuliskan:\n",
    "1. Ada berapa data dengan jumlah malam penyewaan minimumnya 1 namun banyaknya review di aplikasi\n",
    "selama 12 bulan tidak 1?\n",
    "2. Siapa nama pemilik rumah dengan banyaknya hari ketersediaan rumah dalam satu tahunnya terbanyak?\n",
    "3. Ada berapa rumah di daerah (neighbourhood group) Central Region atau East Region dengan harga\n",
    "rumah per malam di bawah 100?\n",
    "4. Banyaknya rumah dengan review per bulan di atas 1 untuk tiap jenis penyediaan ruang.\n",
    "5. 5 nama rumah berdasarkan banyaknya rumah yang disewakan oleh host terbanyak.\n"
   ]
  },
  {
   "cell_type": "markdown",
   "id": "96990436",
   "metadata": {},
   "source": [
    "## Inisiasi Data"
   ]
  },
  {
   "cell_type": "code",
   "execution_count": 1,
   "id": "1ed4d1e0",
   "metadata": {},
   "outputs": [],
   "source": [
    "import pandas as pd"
   ]
  },
  {
   "cell_type": "code",
   "execution_count": 2,
   "id": "715bfc80",
   "metadata": {},
   "outputs": [],
   "source": [
    "df = pd.read_csv(\"P05-03.csv\")"
   ]
  },
  {
   "cell_type": "code",
   "execution_count": 3,
   "id": "77a1f561",
   "metadata": {},
   "outputs": [
    {
     "data": {
      "text/html": [
       "<div>\n",
       "<style scoped>\n",
       "    .dataframe tbody tr th:only-of-type {\n",
       "        vertical-align: middle;\n",
       "    }\n",
       "\n",
       "    .dataframe tbody tr th {\n",
       "        vertical-align: top;\n",
       "    }\n",
       "\n",
       "    .dataframe thead th {\n",
       "        text-align: right;\n",
       "    }\n",
       "</style>\n",
       "<table border=\"1\" class=\"dataframe\">\n",
       "  <thead>\n",
       "    <tr style=\"text-align: right;\">\n",
       "      <th></th>\n",
       "      <th>id</th>\n",
       "      <th>name</th>\n",
       "      <th>host_id</th>\n",
       "      <th>host_name</th>\n",
       "      <th>neighbourhood_group</th>\n",
       "      <th>neighbourhood</th>\n",
       "      <th>latitude</th>\n",
       "      <th>longitude</th>\n",
       "      <th>room_type</th>\n",
       "      <th>price</th>\n",
       "      <th>minimum_nights</th>\n",
       "      <th>number_of_reviews</th>\n",
       "      <th>last_review</th>\n",
       "      <th>reviews_per_month</th>\n",
       "      <th>calculated_host_listings_count</th>\n",
       "      <th>availability_365</th>\n",
       "    </tr>\n",
       "  </thead>\n",
       "  <tbody>\n",
       "    <tr>\n",
       "      <th>0</th>\n",
       "      <td>49091</td>\n",
       "      <td>COZICOMFORT LONG TERM STAY ROOM 2</td>\n",
       "      <td>266763</td>\n",
       "      <td>Francesca</td>\n",
       "      <td>North Region</td>\n",
       "      <td>Woodlands</td>\n",
       "      <td>1.44255</td>\n",
       "      <td>103.79580</td>\n",
       "      <td>Private room</td>\n",
       "      <td>83</td>\n",
       "      <td>180</td>\n",
       "      <td>1</td>\n",
       "      <td>2013-10-21</td>\n",
       "      <td>0.01</td>\n",
       "      <td>2</td>\n",
       "      <td>365</td>\n",
       "    </tr>\n",
       "    <tr>\n",
       "      <th>1</th>\n",
       "      <td>50646</td>\n",
       "      <td>Pleasant Room along Bukit Timah</td>\n",
       "      <td>227796</td>\n",
       "      <td>Sujatha</td>\n",
       "      <td>Central Region</td>\n",
       "      <td>Bukit Timah</td>\n",
       "      <td>1.33235</td>\n",
       "      <td>103.78521</td>\n",
       "      <td>Private room</td>\n",
       "      <td>81</td>\n",
       "      <td>90</td>\n",
       "      <td>18</td>\n",
       "      <td>2014-12-26</td>\n",
       "      <td>0.28</td>\n",
       "      <td>1</td>\n",
       "      <td>365</td>\n",
       "    </tr>\n",
       "    <tr>\n",
       "      <th>2</th>\n",
       "      <td>56334</td>\n",
       "      <td>COZICOMFORT</td>\n",
       "      <td>266763</td>\n",
       "      <td>Francesca</td>\n",
       "      <td>North Region</td>\n",
       "      <td>Woodlands</td>\n",
       "      <td>1.44246</td>\n",
       "      <td>103.79667</td>\n",
       "      <td>Private room</td>\n",
       "      <td>69</td>\n",
       "      <td>6</td>\n",
       "      <td>20</td>\n",
       "      <td>2015-10-01</td>\n",
       "      <td>0.20</td>\n",
       "      <td>2</td>\n",
       "      <td>365</td>\n",
       "    </tr>\n",
       "    <tr>\n",
       "      <th>3</th>\n",
       "      <td>71609</td>\n",
       "      <td>Ensuite Room (Room 1 &amp; 2) near EXPO</td>\n",
       "      <td>367042</td>\n",
       "      <td>Belinda</td>\n",
       "      <td>East Region</td>\n",
       "      <td>Tampines</td>\n",
       "      <td>1.34541</td>\n",
       "      <td>103.95712</td>\n",
       "      <td>Private room</td>\n",
       "      <td>206</td>\n",
       "      <td>1</td>\n",
       "      <td>14</td>\n",
       "      <td>2019-08-11</td>\n",
       "      <td>0.15</td>\n",
       "      <td>9</td>\n",
       "      <td>353</td>\n",
       "    </tr>\n",
       "    <tr>\n",
       "      <th>4</th>\n",
       "      <td>71896</td>\n",
       "      <td>B&amp;B  Room 1 near Airport &amp; EXPO</td>\n",
       "      <td>367042</td>\n",
       "      <td>Belinda</td>\n",
       "      <td>East Region</td>\n",
       "      <td>Tampines</td>\n",
       "      <td>1.34567</td>\n",
       "      <td>103.95963</td>\n",
       "      <td>Private room</td>\n",
       "      <td>94</td>\n",
       "      <td>1</td>\n",
       "      <td>22</td>\n",
       "      <td>2019-07-28</td>\n",
       "      <td>0.22</td>\n",
       "      <td>9</td>\n",
       "      <td>355</td>\n",
       "    </tr>\n",
       "  </tbody>\n",
       "</table>\n",
       "</div>"
      ],
      "text/plain": [
       "      id                                 name  host_id  host_name  \\\n",
       "0  49091    COZICOMFORT LONG TERM STAY ROOM 2   266763  Francesca   \n",
       "1  50646      Pleasant Room along Bukit Timah   227796    Sujatha   \n",
       "2  56334                          COZICOMFORT   266763  Francesca   \n",
       "3  71609  Ensuite Room (Room 1 & 2) near EXPO   367042    Belinda   \n",
       "4  71896      B&B  Room 1 near Airport & EXPO   367042    Belinda   \n",
       "\n",
       "  neighbourhood_group neighbourhood  latitude  longitude     room_type  price  \\\n",
       "0        North Region     Woodlands   1.44255  103.79580  Private room     83   \n",
       "1      Central Region   Bukit Timah   1.33235  103.78521  Private room     81   \n",
       "2        North Region     Woodlands   1.44246  103.79667  Private room     69   \n",
       "3         East Region      Tampines   1.34541  103.95712  Private room    206   \n",
       "4         East Region      Tampines   1.34567  103.95963  Private room     94   \n",
       "\n",
       "   minimum_nights  number_of_reviews last_review  reviews_per_month  \\\n",
       "0             180                  1  2013-10-21               0.01   \n",
       "1              90                 18  2014-12-26               0.28   \n",
       "2               6                 20  2015-10-01               0.20   \n",
       "3               1                 14  2019-08-11               0.15   \n",
       "4               1                 22  2019-07-28               0.22   \n",
       "\n",
       "   calculated_host_listings_count  availability_365  \n",
       "0                               2               365  \n",
       "1                               1               365  \n",
       "2                               2               365  \n",
       "3                               9               353  \n",
       "4                               9               355  "
      ]
     },
     "execution_count": 3,
     "metadata": {},
     "output_type": "execute_result"
    }
   ],
   "source": [
    "df.head()"
   ]
  },
  {
   "cell_type": "markdown",
   "id": "9795a140",
   "metadata": {},
   "source": [
    "## 1. Ada berapa data dengan jumlah malam penyewaan minimumnya 1 namun banyaknya review di aplikasi selama 12 bulan tidak 1?"
   ]
  },
  {
   "cell_type": "markdown",
   "id": "a8026f92",
   "metadata": {},
   "source": [
    "### Jika jumlah review aplikasi selama 12 bulan adalah number_of_review :"
   ]
  },
  {
   "cell_type": "code",
   "execution_count": 62,
   "id": "94844924",
   "metadata": {},
   "outputs": [
    {
     "data": {
      "text/plain": [
       "1841"
      ]
     },
     "execution_count": 62,
     "metadata": {},
     "output_type": "execute_result"
    }
   ],
   "source": [
    "df[(df['minimum_nights'] == 1) & (df['number_of_reviews'] != 1)].shape[0]"
   ]
  },
  {
   "cell_type": "markdown",
   "id": "9a258bd6",
   "metadata": {},
   "source": [
    "### Jika jumlah review aplikasi selama 12 bulan adalah 12 kali reviews_per_month :"
   ]
  },
  {
   "cell_type": "markdown",
   "id": "fa86b0bb",
   "metadata": {},
   "source": [
    "Buat kolom banyaknya review selama 12 bulan dengan menghitung banyaknya review per bulan dikali 12"
   ]
  },
  {
   "cell_type": "code",
   "execution_count": 60,
   "id": "68fa57c4",
   "metadata": {},
   "outputs": [],
   "source": [
    "df['reviews_in_a_year'] = df['reviews_per_month'] * 12"
   ]
  },
  {
   "cell_type": "code",
   "execution_count": 61,
   "id": "8cdfab8f",
   "metadata": {},
   "outputs": [
    {
     "data": {
      "text/plain": [
       "2089"
      ]
     },
     "execution_count": 61,
     "metadata": {},
     "output_type": "execute_result"
    }
   ],
   "source": [
    "df[(df['minimum_nights'] == 1) & (df['reviews_in_a_year'] != 1)].shape[0]"
   ]
  },
  {
   "cell_type": "markdown",
   "id": "c1311c41",
   "metadata": {},
   "source": [
    "## 2. Siapa nama pemilik rumah dengan banyaknya hari ketersediaan rumah dalam satu tahunnya terbanyak?"
   ]
  },
  {
   "cell_type": "code",
   "execution_count": 20,
   "id": "94de6511",
   "metadata": {},
   "outputs": [
    {
     "data": {
      "text/plain": [
       "'Francesca'"
      ]
     },
     "execution_count": 20,
     "metadata": {},
     "output_type": "execute_result"
    }
   ],
   "source": [
    "df.loc[df['availability_365'].idxmax()].host_name"
   ]
  },
  {
   "cell_type": "markdown",
   "id": "405cd937",
   "metadata": {},
   "source": [
    "## 3. Ada berapa rumah di daerah (neighbourhood group) Central Region atau East Region dengan harga rumah per malam di bawah 100?"
   ]
  },
  {
   "cell_type": "code",
   "execution_count": 39,
   "id": "180bb186",
   "metadata": {},
   "outputs": [
    {
     "data": {
      "text/plain": [
       "2429"
      ]
     },
     "execution_count": 39,
     "metadata": {},
     "output_type": "execute_result"
    }
   ],
   "source": [
    "df[((df['neighbourhood_group'] == 'Central Region') | (df['neighbourhood_group'] == 'East Region'))\n",
    "  & (df['price'] < 100)].shape[0]"
   ]
  },
  {
   "cell_type": "markdown",
   "id": "adff7857",
   "metadata": {},
   "source": [
    "## 4. Banyaknya rumah dengan review per bulan di atas 1 untuk tiap jenis penyediaan ruang"
   ]
  },
  {
   "cell_type": "code",
   "execution_count": 41,
   "id": "47ae1d8b",
   "metadata": {},
   "outputs": [
    {
     "data": {
      "text/plain": [
       "Entire home/apt    873\n",
       "Private room       681\n",
       "Shared room         67\n",
       "Name: room_type, dtype: int64"
      ]
     },
     "execution_count": 41,
     "metadata": {},
     "output_type": "execute_result"
    }
   ],
   "source": [
    "df[df['reviews_per_month'] > 1]['room_type'].value_counts()"
   ]
  },
  {
   "cell_type": "markdown",
   "id": "5e9f9735",
   "metadata": {},
   "source": [
    "## 5. 5 nama rumah berdasarkan banyaknya rumah yang disewakan oleh host terbanyak"
   ]
  },
  {
   "cell_type": "code",
   "execution_count": 57,
   "id": "6f4e961d",
   "metadata": {},
   "outputs": [
    {
     "data": {
      "text/plain": [
       "66406177"
      ]
     },
     "execution_count": 57,
     "metadata": {},
     "output_type": "execute_result"
    }
   ],
   "source": [
    "df.loc[df['calculated_host_listings_count'].idxmax()].host_id"
   ]
  },
  {
   "cell_type": "markdown",
   "id": "d83cb011",
   "metadata": {},
   "source": [
    "Dari program di atas, dapat diketahui host dengan rumah yang disewakan terbanyak memiliki host_id 66406177"
   ]
  },
  {
   "cell_type": "code",
   "execution_count": 46,
   "id": "d632267d",
   "metadata": {},
   "outputs": [
    {
     "data": {
      "text/plain": [
       "2038    Humble & Conveniently Located 1BR in Katong Area\n",
       "2192         Leisure Studio APT 5 mins from Tg Pagar MRT\n",
       "2522    Humble & Conveniently Located 1BR in Katong Area\n",
       "2523      BRAND NEW 2bedroom home at West Coast/Clementi\n",
       "2524          Superhost 1BR APT in the heart of Tg Pagar\n",
       "Name: name, dtype: object"
      ]
     },
     "execution_count": 46,
     "metadata": {},
     "output_type": "execute_result"
    }
   ],
   "source": [
    "df[df['host_id'] == 66406177]['name'][:5]"
   ]
  }
 ],
 "metadata": {
  "kernelspec": {
   "display_name": "Python 3 (ipykernel)",
   "language": "python",
   "name": "python3"
  },
  "language_info": {
   "codemirror_mode": {
    "name": "ipython",
    "version": 3
   },
   "file_extension": ".py",
   "mimetype": "text/x-python",
   "name": "python",
   "nbconvert_exporter": "python",
   "pygments_lexer": "ipython3",
   "version": "3.10.9"
  }
 },
 "nbformat": 4,
 "nbformat_minor": 5
}
