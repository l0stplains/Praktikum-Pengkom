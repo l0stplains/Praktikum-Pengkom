{
 "cells": [
  {
   "cell_type": "markdown",
   "id": "9503beb7",
   "metadata": {},
   "source": [
    "\n",
    "# Problem 1\n",
    "NIM/Nama : 19623034/Refki Alfarizi\\\n",
    "Tanggal  : 16 November 2023\\\n",
    "Deskripsi: Diberikan data harga rumah yang disewakan di Airbnb di Singapura. Tuliskan:\n",
    "1. Banyaknya rumah pada masing-masing neighbourhood group.\n",
    "2. Rumah dengan jumlah review di aplikasi terbanyak selama 12 bulan.\n",
    "3. 5 data rumah dengan jumlah malam penyewaan minimum terendah.\n",
    "4. Rumah yang dimiliki oleh Jayce.\n",
    "5. Koefisien korelasi antara banyaknya review tiap bulan dengan jumlah malam penyewaan minimum.\n",
    "Apakah berkorelasi lurus, terbalik, atau tidak berkolerasi? Jelaskan"
   ]
  },
  {
   "cell_type": "markdown",
   "id": "fcd6fa21",
   "metadata": {},
   "source": [
    "## Inisiasi Data"
   ]
  },
  {
   "cell_type": "code",
   "execution_count": 1,
   "id": "cfb149a7",
   "metadata": {},
   "outputs": [],
   "source": [
    "import pandas as pd"
   ]
  },
  {
   "cell_type": "code",
   "execution_count": 2,
   "id": "a5549804",
   "metadata": {},
   "outputs": [],
   "source": [
    "df = pd.read_csv(\"P05-03.csv\")"
   ]
  },
  {
   "cell_type": "code",
   "execution_count": 3,
   "id": "59f0f27d",
   "metadata": {},
   "outputs": [
    {
     "data": {
      "text/html": [
       "<div>\n",
       "<style scoped>\n",
       "    .dataframe tbody tr th:only-of-type {\n",
       "        vertical-align: middle;\n",
       "    }\n",
       "\n",
       "    .dataframe tbody tr th {\n",
       "        vertical-align: top;\n",
       "    }\n",
       "\n",
       "    .dataframe thead th {\n",
       "        text-align: right;\n",
       "    }\n",
       "</style>\n",
       "<table border=\"1\" class=\"dataframe\">\n",
       "  <thead>\n",
       "    <tr style=\"text-align: right;\">\n",
       "      <th></th>\n",
       "      <th>id</th>\n",
       "      <th>name</th>\n",
       "      <th>host_id</th>\n",
       "      <th>host_name</th>\n",
       "      <th>neighbourhood_group</th>\n",
       "      <th>neighbourhood</th>\n",
       "      <th>latitude</th>\n",
       "      <th>longitude</th>\n",
       "      <th>room_type</th>\n",
       "      <th>price</th>\n",
       "      <th>minimum_nights</th>\n",
       "      <th>number_of_reviews</th>\n",
       "      <th>last_review</th>\n",
       "      <th>reviews_per_month</th>\n",
       "      <th>calculated_host_listings_count</th>\n",
       "      <th>availability_365</th>\n",
       "    </tr>\n",
       "  </thead>\n",
       "  <tbody>\n",
       "    <tr>\n",
       "      <th>0</th>\n",
       "      <td>49091</td>\n",
       "      <td>COZICOMFORT LONG TERM STAY ROOM 2</td>\n",
       "      <td>266763</td>\n",
       "      <td>Francesca</td>\n",
       "      <td>North Region</td>\n",
       "      <td>Woodlands</td>\n",
       "      <td>1.44255</td>\n",
       "      <td>103.79580</td>\n",
       "      <td>Private room</td>\n",
       "      <td>83</td>\n",
       "      <td>180</td>\n",
       "      <td>1</td>\n",
       "      <td>2013-10-21</td>\n",
       "      <td>0.01</td>\n",
       "      <td>2</td>\n",
       "      <td>365</td>\n",
       "    </tr>\n",
       "    <tr>\n",
       "      <th>1</th>\n",
       "      <td>50646</td>\n",
       "      <td>Pleasant Room along Bukit Timah</td>\n",
       "      <td>227796</td>\n",
       "      <td>Sujatha</td>\n",
       "      <td>Central Region</td>\n",
       "      <td>Bukit Timah</td>\n",
       "      <td>1.33235</td>\n",
       "      <td>103.78521</td>\n",
       "      <td>Private room</td>\n",
       "      <td>81</td>\n",
       "      <td>90</td>\n",
       "      <td>18</td>\n",
       "      <td>2014-12-26</td>\n",
       "      <td>0.28</td>\n",
       "      <td>1</td>\n",
       "      <td>365</td>\n",
       "    </tr>\n",
       "    <tr>\n",
       "      <th>2</th>\n",
       "      <td>56334</td>\n",
       "      <td>COZICOMFORT</td>\n",
       "      <td>266763</td>\n",
       "      <td>Francesca</td>\n",
       "      <td>North Region</td>\n",
       "      <td>Woodlands</td>\n",
       "      <td>1.44246</td>\n",
       "      <td>103.79667</td>\n",
       "      <td>Private room</td>\n",
       "      <td>69</td>\n",
       "      <td>6</td>\n",
       "      <td>20</td>\n",
       "      <td>2015-10-01</td>\n",
       "      <td>0.20</td>\n",
       "      <td>2</td>\n",
       "      <td>365</td>\n",
       "    </tr>\n",
       "    <tr>\n",
       "      <th>3</th>\n",
       "      <td>71609</td>\n",
       "      <td>Ensuite Room (Room 1 &amp; 2) near EXPO</td>\n",
       "      <td>367042</td>\n",
       "      <td>Belinda</td>\n",
       "      <td>East Region</td>\n",
       "      <td>Tampines</td>\n",
       "      <td>1.34541</td>\n",
       "      <td>103.95712</td>\n",
       "      <td>Private room</td>\n",
       "      <td>206</td>\n",
       "      <td>1</td>\n",
       "      <td>14</td>\n",
       "      <td>2019-08-11</td>\n",
       "      <td>0.15</td>\n",
       "      <td>9</td>\n",
       "      <td>353</td>\n",
       "    </tr>\n",
       "    <tr>\n",
       "      <th>4</th>\n",
       "      <td>71896</td>\n",
       "      <td>B&amp;B  Room 1 near Airport &amp; EXPO</td>\n",
       "      <td>367042</td>\n",
       "      <td>Belinda</td>\n",
       "      <td>East Region</td>\n",
       "      <td>Tampines</td>\n",
       "      <td>1.34567</td>\n",
       "      <td>103.95963</td>\n",
       "      <td>Private room</td>\n",
       "      <td>94</td>\n",
       "      <td>1</td>\n",
       "      <td>22</td>\n",
       "      <td>2019-07-28</td>\n",
       "      <td>0.22</td>\n",
       "      <td>9</td>\n",
       "      <td>355</td>\n",
       "    </tr>\n",
       "  </tbody>\n",
       "</table>\n",
       "</div>"
      ],
      "text/plain": [
       "      id                                 name  host_id  host_name  \\\n",
       "0  49091    COZICOMFORT LONG TERM STAY ROOM 2   266763  Francesca   \n",
       "1  50646      Pleasant Room along Bukit Timah   227796    Sujatha   \n",
       "2  56334                          COZICOMFORT   266763  Francesca   \n",
       "3  71609  Ensuite Room (Room 1 & 2) near EXPO   367042    Belinda   \n",
       "4  71896      B&B  Room 1 near Airport & EXPO   367042    Belinda   \n",
       "\n",
       "  neighbourhood_group neighbourhood  latitude  longitude     room_type  price  \\\n",
       "0        North Region     Woodlands   1.44255  103.79580  Private room     83   \n",
       "1      Central Region   Bukit Timah   1.33235  103.78521  Private room     81   \n",
       "2        North Region     Woodlands   1.44246  103.79667  Private room     69   \n",
       "3         East Region      Tampines   1.34541  103.95712  Private room    206   \n",
       "4         East Region      Tampines   1.34567  103.95963  Private room     94   \n",
       "\n",
       "   minimum_nights  number_of_reviews last_review  reviews_per_month  \\\n",
       "0             180                  1  2013-10-21               0.01   \n",
       "1              90                 18  2014-12-26               0.28   \n",
       "2               6                 20  2015-10-01               0.20   \n",
       "3               1                 14  2019-08-11               0.15   \n",
       "4               1                 22  2019-07-28               0.22   \n",
       "\n",
       "   calculated_host_listings_count  availability_365  \n",
       "0                               2               365  \n",
       "1                               1               365  \n",
       "2                               2               365  \n",
       "3                               9               353  \n",
       "4                               9               355  "
      ]
     },
     "execution_count": 3,
     "metadata": {},
     "output_type": "execute_result"
    }
   ],
   "source": [
    "df.head()"
   ]
  },
  {
   "cell_type": "markdown",
   "id": "1cd29537",
   "metadata": {},
   "source": [
    "## 1. Banyaknya rumah pada masing-masing neighbourhood group"
   ]
  },
  {
   "cell_type": "code",
   "execution_count": 5,
   "id": "d4958946",
   "metadata": {},
   "outputs": [
    {
     "data": {
      "text/plain": [
       "Central Region       6309\n",
       "West Region           540\n",
       "East Region           508\n",
       "North-East Region     346\n",
       "North Region          204\n",
       "Name: neighbourhood_group, dtype: int64"
      ]
     },
     "execution_count": 5,
     "metadata": {},
     "output_type": "execute_result"
    }
   ],
   "source": [
    "df['neighbourhood_group'].value_counts()"
   ]
  },
  {
   "cell_type": "markdown",
   "id": "f8c61b31",
   "metadata": {},
   "source": [
    "## 2. Rumah dengan jumlah review di aplikasi terbanyak selama 12 bulan."
   ]
  },
  {
   "cell_type": "markdown",
   "id": "f80ccc1a",
   "metadata": {},
   "source": [
    "### Jika jumlah review aplikasi selama 12 bulan adalah 12 kali reviews_per_month :"
   ]
  },
  {
   "cell_type": "markdown",
   "id": "48819536",
   "metadata": {},
   "source": [
    "**CATATAN**\\\n",
    "Banyaknya review selama 12 bulan dapat dihitung dengan menghitung review per bulan dikali 12.\\\n",
    "Dengan fakta tersebut, urutan review terbanyak selama 12 bulan sama saja dengan urutan review terbanyak per bulan."
   ]
  },
  {
   "cell_type": "code",
   "execution_count": 6,
   "id": "d83edbb2",
   "metadata": {},
   "outputs": [],
   "source": [
    "id_most_reviewed = df['reviews_per_month'].idxmax()"
   ]
  },
  {
   "cell_type": "code",
   "execution_count": 24,
   "id": "4df0d99d",
   "metadata": {},
   "outputs": [
    {
     "data": {
      "text/plain": [
       "id                                                                        36817766\n",
       "name                              Private Single Cabin,5 min walk to Chinatown MRT\n",
       "host_id                                                                  223971227\n",
       "host_name                                                                     Fang\n",
       "neighbourhood_group                                                 Central Region\n",
       "neighbourhood                                                               Outram\n",
       "latitude                                                                   1.28076\n",
       "longitude                                                                103.84563\n",
       "room_type                                                             Private room\n",
       "price                                                                           69\n",
       "minimum_nights                                                                   1\n",
       "number_of_reviews                                                               13\n",
       "last_review                                                             2019-08-27\n",
       "reviews_per_month                                                             13.0\n",
       "calculated_host_listings_count                                                  14\n",
       "availability_365                                                                 1\n",
       "Name: 7447, dtype: object"
      ]
     },
     "execution_count": 24,
     "metadata": {},
     "output_type": "execute_result"
    }
   ],
   "source": [
    "df.loc[id_most_reviewed]"
   ]
  },
  {
   "cell_type": "code",
   "execution_count": 12,
   "id": "62d9459f",
   "metadata": {},
   "outputs": [
    {
     "data": {
      "text/plain": [
       "'Private Single Cabin,5 min walk to Chinatown MRT'"
      ]
     },
     "execution_count": 12,
     "metadata": {},
     "output_type": "execute_result"
    }
   ],
   "source": [
    "df.loc[id_most_reviewed]['name']"
   ]
  },
  {
   "cell_type": "markdown",
   "id": "08787dcc",
   "metadata": {},
   "source": [
    "Rumah dengan jumlah review di aplikasi terbanyak selama 12 bulan adalah _Private Single Cabin,5 min walk to Chinatown MRT_"
   ]
  },
  {
   "cell_type": "markdown",
   "id": "b6903a72",
   "metadata": {},
   "source": [
    "### Jika jumlah review aplikasi selama 12 bulan adalah number_of_review :"
   ]
  },
  {
   "cell_type": "code",
   "execution_count": 25,
   "id": "e91414e9",
   "metadata": {},
   "outputs": [
    {
     "data": {
      "text/plain": [
       "'Luxuriously Spacious Studio Apt.'"
      ]
     },
     "execution_count": 25,
     "metadata": {},
     "output_type": "execute_result"
    }
   ],
   "source": [
    "id_most_reviewed = df['number_of_reviews'].idxmax()\n",
    "df.loc[id_most_reviewed]['name']"
   ]
  },
  {
   "cell_type": "markdown",
   "id": "27056fc2",
   "metadata": {},
   "source": [
    "Rumah dengan jumlah review di aplikasi terbanyak selama 12 bulan adalah _Luxuriously Spacious Studio Apt._"
   ]
  },
  {
   "cell_type": "markdown",
   "id": "893a5ae7",
   "metadata": {},
   "source": [
    "## 3.  5 data rumah dengan jumlah malam penyewaan minimum terendah"
   ]
  },
  {
   "cell_type": "code",
   "execution_count": 15,
   "id": "dc7c008c",
   "metadata": {},
   "outputs": [
    {
     "data": {
      "text/html": [
       "<div>\n",
       "<style scoped>\n",
       "    .dataframe tbody tr th:only-of-type {\n",
       "        vertical-align: middle;\n",
       "    }\n",
       "\n",
       "    .dataframe tbody tr th {\n",
       "        vertical-align: top;\n",
       "    }\n",
       "\n",
       "    .dataframe thead th {\n",
       "        text-align: right;\n",
       "    }\n",
       "</style>\n",
       "<table border=\"1\" class=\"dataframe\">\n",
       "  <thead>\n",
       "    <tr style=\"text-align: right;\">\n",
       "      <th></th>\n",
       "      <th>id</th>\n",
       "      <th>name</th>\n",
       "      <th>host_id</th>\n",
       "      <th>host_name</th>\n",
       "      <th>neighbourhood_group</th>\n",
       "      <th>neighbourhood</th>\n",
       "      <th>latitude</th>\n",
       "      <th>longitude</th>\n",
       "      <th>room_type</th>\n",
       "      <th>price</th>\n",
       "      <th>minimum_nights</th>\n",
       "      <th>number_of_reviews</th>\n",
       "      <th>last_review</th>\n",
       "      <th>reviews_per_month</th>\n",
       "      <th>calculated_host_listings_count</th>\n",
       "      <th>availability_365</th>\n",
       "    </tr>\n",
       "  </thead>\n",
       "  <tbody>\n",
       "    <tr>\n",
       "      <th>2766</th>\n",
       "      <td>19751695</td>\n",
       "      <td>Newly Refurbished Private Room @ Sembawang MRT</td>\n",
       "      <td>15035611</td>\n",
       "      <td>Anna</td>\n",
       "      <td>North Region</td>\n",
       "      <td>Sembawang</td>\n",
       "      <td>1.45111</td>\n",
       "      <td>103.82765</td>\n",
       "      <td>Private room</td>\n",
       "      <td>87</td>\n",
       "      <td>1</td>\n",
       "      <td>7</td>\n",
       "      <td>2017-12-16</td>\n",
       "      <td>0.28</td>\n",
       "      <td>1</td>\n",
       "      <td>0</td>\n",
       "    </tr>\n",
       "    <tr>\n",
       "      <th>6674</th>\n",
       "      <td>34244096</td>\n",
       "      <td>B1 • Minimalistic Room 5mins Train To MBS And ...</td>\n",
       "      <td>3234859</td>\n",
       "      <td>Sk</td>\n",
       "      <td>Central Region</td>\n",
       "      <td>Rochor</td>\n",
       "      <td>1.30324</td>\n",
       "      <td>103.86057</td>\n",
       "      <td>Private room</td>\n",
       "      <td>110</td>\n",
       "      <td>1</td>\n",
       "      <td>8</td>\n",
       "      <td>2019-08-17</td>\n",
       "      <td>2.31</td>\n",
       "      <td>9</td>\n",
       "      <td>138</td>\n",
       "    </tr>\n",
       "    <tr>\n",
       "      <th>2183</th>\n",
       "      <td>16640229</td>\n",
       "      <td>Brand New Cosy 2-Bedroom Apartment</td>\n",
       "      <td>109931020</td>\n",
       "      <td>Nyah</td>\n",
       "      <td>Central Region</td>\n",
       "      <td>Marine Parade</td>\n",
       "      <td>1.30101</td>\n",
       "      <td>103.89784</td>\n",
       "      <td>Entire home/apt</td>\n",
       "      <td>269</td>\n",
       "      <td>1</td>\n",
       "      <td>1</td>\n",
       "      <td>2017-01-20</td>\n",
       "      <td>0.03</td>\n",
       "      <td>1</td>\n",
       "      <td>0</td>\n",
       "    </tr>\n",
       "    <tr>\n",
       "      <th>4640</th>\n",
       "      <td>28116713</td>\n",
       "      <td>Terrace House @ Thomson Village</td>\n",
       "      <td>25375339</td>\n",
       "      <td>ｼﾝ</td>\n",
       "      <td>Central Region</td>\n",
       "      <td>Bishan</td>\n",
       "      <td>1.35389</td>\n",
       "      <td>103.83230</td>\n",
       "      <td>Entire home/apt</td>\n",
       "      <td>500</td>\n",
       "      <td>1</td>\n",
       "      <td>0</td>\n",
       "      <td>NaN</td>\n",
       "      <td>NaN</td>\n",
       "      <td>9</td>\n",
       "      <td>365</td>\n",
       "    </tr>\n",
       "    <tr>\n",
       "      <th>4639</th>\n",
       "      <td>28116308</td>\n",
       "      <td>Masteroom (bath) @ Terrace House @ Thomson Vil...</td>\n",
       "      <td>25375339</td>\n",
       "      <td>ｼﾝ</td>\n",
       "      <td>Central Region</td>\n",
       "      <td>Bishan</td>\n",
       "      <td>1.35266</td>\n",
       "      <td>103.83360</td>\n",
       "      <td>Private room</td>\n",
       "      <td>81</td>\n",
       "      <td>1</td>\n",
       "      <td>1</td>\n",
       "      <td>2018-10-03</td>\n",
       "      <td>0.09</td>\n",
       "      <td>9</td>\n",
       "      <td>362</td>\n",
       "    </tr>\n",
       "  </tbody>\n",
       "</table>\n",
       "</div>"
      ],
      "text/plain": [
       "            id                                               name    host_id  \\\n",
       "2766  19751695     Newly Refurbished Private Room @ Sembawang MRT   15035611   \n",
       "6674  34244096  B1 • Minimalistic Room 5mins Train To MBS And ...    3234859   \n",
       "2183  16640229                 Brand New Cosy 2-Bedroom Apartment  109931020   \n",
       "4640  28116713                    Terrace House @ Thomson Village   25375339   \n",
       "4639  28116308  Masteroom (bath) @ Terrace House @ Thomson Vil...   25375339   \n",
       "\n",
       "     host_name neighbourhood_group  neighbourhood  latitude  longitude  \\\n",
       "2766      Anna        North Region      Sembawang   1.45111  103.82765   \n",
       "6674        Sk      Central Region         Rochor   1.30324  103.86057   \n",
       "2183      Nyah      Central Region  Marine Parade   1.30101  103.89784   \n",
       "4640        ｼﾝ      Central Region         Bishan   1.35389  103.83230   \n",
       "4639        ｼﾝ      Central Region         Bishan   1.35266  103.83360   \n",
       "\n",
       "            room_type  price  minimum_nights  number_of_reviews last_review  \\\n",
       "2766     Private room     87               1                  7  2017-12-16   \n",
       "6674     Private room    110               1                  8  2019-08-17   \n",
       "2183  Entire home/apt    269               1                  1  2017-01-20   \n",
       "4640  Entire home/apt    500               1                  0         NaN   \n",
       "4639     Private room     81               1                  1  2018-10-03   \n",
       "\n",
       "      reviews_per_month  calculated_host_listings_count  availability_365  \n",
       "2766               0.28                               1                 0  \n",
       "6674               2.31                               9               138  \n",
       "2183               0.03                               1                 0  \n",
       "4640                NaN                               9               365  \n",
       "4639               0.09                               9               362  "
      ]
     },
     "execution_count": 15,
     "metadata": {},
     "output_type": "execute_result"
    }
   ],
   "source": [
    "df.sort_values([\"minimum_nights\"],ascending=[1])[:5]"
   ]
  },
  {
   "cell_type": "markdown",
   "id": "bad5660c",
   "metadata": {},
   "source": [
    "## 4. Rumah yang dimiliki oleh Jayce"
   ]
  },
  {
   "cell_type": "code",
   "execution_count": 17,
   "id": "5f8545bc",
   "metadata": {
    "scrolled": false
   },
   "outputs": [
    {
     "data": {
      "text/html": [
       "<div>\n",
       "<style scoped>\n",
       "    .dataframe tbody tr th:only-of-type {\n",
       "        vertical-align: middle;\n",
       "    }\n",
       "\n",
       "    .dataframe tbody tr th {\n",
       "        vertical-align: top;\n",
       "    }\n",
       "\n",
       "    .dataframe thead th {\n",
       "        text-align: right;\n",
       "    }\n",
       "</style>\n",
       "<table border=\"1\" class=\"dataframe\">\n",
       "  <thead>\n",
       "    <tr style=\"text-align: right;\">\n",
       "      <th></th>\n",
       "      <th>id</th>\n",
       "      <th>name</th>\n",
       "      <th>host_id</th>\n",
       "      <th>host_name</th>\n",
       "      <th>neighbourhood_group</th>\n",
       "      <th>neighbourhood</th>\n",
       "      <th>latitude</th>\n",
       "      <th>longitude</th>\n",
       "      <th>room_type</th>\n",
       "      <th>price</th>\n",
       "      <th>minimum_nights</th>\n",
       "      <th>number_of_reviews</th>\n",
       "      <th>last_review</th>\n",
       "      <th>reviews_per_month</th>\n",
       "      <th>calculated_host_listings_count</th>\n",
       "      <th>availability_365</th>\n",
       "    </tr>\n",
       "  </thead>\n",
       "  <tbody>\n",
       "    <tr>\n",
       "      <th>1890</th>\n",
       "      <td>15351390</td>\n",
       "      <td>Private Room near Paya Lebar&amp;Dakota</td>\n",
       "      <td>78386666</td>\n",
       "      <td>Jayce</td>\n",
       "      <td>Central Region</td>\n",
       "      <td>Geylang</td>\n",
       "      <td>1.31150</td>\n",
       "      <td>103.89015</td>\n",
       "      <td>Private room</td>\n",
       "      <td>62</td>\n",
       "      <td>2</td>\n",
       "      <td>0</td>\n",
       "      <td>NaN</td>\n",
       "      <td>NaN</td>\n",
       "      <td>6</td>\n",
       "      <td>0</td>\n",
       "    </tr>\n",
       "    <tr>\n",
       "      <th>1950</th>\n",
       "      <td>15712633</td>\n",
       "      <td>Private Room near Paya Lebar MRT</td>\n",
       "      <td>78386666</td>\n",
       "      <td>Jayce</td>\n",
       "      <td>Central Region</td>\n",
       "      <td>Geylang</td>\n",
       "      <td>1.31476</td>\n",
       "      <td>103.88913</td>\n",
       "      <td>Private room</td>\n",
       "      <td>53</td>\n",
       "      <td>1</td>\n",
       "      <td>15</td>\n",
       "      <td>2018-10-03</td>\n",
       "      <td>0.45</td>\n",
       "      <td>6</td>\n",
       "      <td>0</td>\n",
       "    </tr>\n",
       "    <tr>\n",
       "      <th>2007</th>\n",
       "      <td>16027385</td>\n",
       "      <td>Private Common Room at near Paya Lebar MRT</td>\n",
       "      <td>78386666</td>\n",
       "      <td>Jayce</td>\n",
       "      <td>Central Region</td>\n",
       "      <td>Geylang</td>\n",
       "      <td>1.31728</td>\n",
       "      <td>103.88995</td>\n",
       "      <td>Private room</td>\n",
       "      <td>56</td>\n",
       "      <td>2</td>\n",
       "      <td>5</td>\n",
       "      <td>2018-04-30</td>\n",
       "      <td>0.17</td>\n",
       "      <td>6</td>\n",
       "      <td>0</td>\n",
       "    </tr>\n",
       "    <tr>\n",
       "      <th>2351</th>\n",
       "      <td>17677387</td>\n",
       "      <td>Private Master Room with attach bathroom</td>\n",
       "      <td>78386666</td>\n",
       "      <td>Jayce</td>\n",
       "      <td>Central Region</td>\n",
       "      <td>Geylang</td>\n",
       "      <td>1.31650</td>\n",
       "      <td>103.88944</td>\n",
       "      <td>Private room</td>\n",
       "      <td>56</td>\n",
       "      <td>1</td>\n",
       "      <td>2</td>\n",
       "      <td>2018-02-04</td>\n",
       "      <td>0.10</td>\n",
       "      <td>6</td>\n",
       "      <td>0</td>\n",
       "    </tr>\n",
       "    <tr>\n",
       "      <th>2513</th>\n",
       "      <td>18443344</td>\n",
       "      <td>Private Master Room w/Own Bathroom at paya lebar</td>\n",
       "      <td>78386666</td>\n",
       "      <td>Jayce</td>\n",
       "      <td>Central Region</td>\n",
       "      <td>Geylang</td>\n",
       "      <td>1.31449</td>\n",
       "      <td>103.89031</td>\n",
       "      <td>Private room</td>\n",
       "      <td>56</td>\n",
       "      <td>2</td>\n",
       "      <td>5</td>\n",
       "      <td>2019-01-01</td>\n",
       "      <td>0.29</td>\n",
       "      <td>6</td>\n",
       "      <td>0</td>\n",
       "    </tr>\n",
       "    <tr>\n",
       "      <th>2901</th>\n",
       "      <td>20446077</td>\n",
       "      <td>The condo common room at dakota mrt</td>\n",
       "      <td>78386666</td>\n",
       "      <td>Jayce</td>\n",
       "      <td>Central Region</td>\n",
       "      <td>Geylang</td>\n",
       "      <td>1.31193</td>\n",
       "      <td>103.88905</td>\n",
       "      <td>Private room</td>\n",
       "      <td>49</td>\n",
       "      <td>2</td>\n",
       "      <td>1</td>\n",
       "      <td>2018-01-23</td>\n",
       "      <td>0.05</td>\n",
       "      <td>6</td>\n",
       "      <td>0</td>\n",
       "    </tr>\n",
       "  </tbody>\n",
       "</table>\n",
       "</div>"
      ],
      "text/plain": [
       "            id                                              name   host_id  \\\n",
       "1890  15351390               Private Room near Paya Lebar&Dakota  78386666   \n",
       "1950  15712633                  Private Room near Paya Lebar MRT  78386666   \n",
       "2007  16027385        Private Common Room at near Paya Lebar MRT  78386666   \n",
       "2351  17677387          Private Master Room with attach bathroom  78386666   \n",
       "2513  18443344  Private Master Room w/Own Bathroom at paya lebar  78386666   \n",
       "2901  20446077               The condo common room at dakota mrt  78386666   \n",
       "\n",
       "     host_name neighbourhood_group neighbourhood  latitude  longitude  \\\n",
       "1890     Jayce      Central Region       Geylang   1.31150  103.89015   \n",
       "1950     Jayce      Central Region       Geylang   1.31476  103.88913   \n",
       "2007     Jayce      Central Region       Geylang   1.31728  103.88995   \n",
       "2351     Jayce      Central Region       Geylang   1.31650  103.88944   \n",
       "2513     Jayce      Central Region       Geylang   1.31449  103.89031   \n",
       "2901     Jayce      Central Region       Geylang   1.31193  103.88905   \n",
       "\n",
       "         room_type  price  minimum_nights  number_of_reviews last_review  \\\n",
       "1890  Private room     62               2                  0         NaN   \n",
       "1950  Private room     53               1                 15  2018-10-03   \n",
       "2007  Private room     56               2                  5  2018-04-30   \n",
       "2351  Private room     56               1                  2  2018-02-04   \n",
       "2513  Private room     56               2                  5  2019-01-01   \n",
       "2901  Private room     49               2                  1  2018-01-23   \n",
       "\n",
       "      reviews_per_month  calculated_host_listings_count  availability_365  \n",
       "1890                NaN                               6                 0  \n",
       "1950               0.45                               6                 0  \n",
       "2007               0.17                               6                 0  \n",
       "2351               0.10                               6                 0  \n",
       "2513               0.29                               6                 0  \n",
       "2901               0.05                               6                 0  "
      ]
     },
     "execution_count": 17,
     "metadata": {},
     "output_type": "execute_result"
    }
   ],
   "source": [
    "df[df['host_name'] == 'Jayce']"
   ]
  },
  {
   "cell_type": "markdown",
   "id": "53bcd8dd",
   "metadata": {},
   "source": [
    "_Tabel di atas berisi data dari rumah yang dimiliki oleh Jayce_"
   ]
  },
  {
   "cell_type": "markdown",
   "id": "00be9737",
   "metadata": {},
   "source": [
    "## 5. Koefisien korelasi antara banyaknya review tiap bulan dengan jumlah malam penyewaan minimum. Apakah berkorelasi lurus, terbalik, atau tidak berkorelasi? Jelaskan."
   ]
  },
  {
   "cell_type": "code",
   "execution_count": 20,
   "id": "73cfdcda",
   "metadata": {},
   "outputs": [
    {
     "data": {
      "text/plain": [
       "-0.1394693387693145"
      ]
     },
     "execution_count": 20,
     "metadata": {},
     "output_type": "execute_result"
    }
   ],
   "source": [
    "df['reviews_per_month'].corr(df[\"minimum_nights\"])"
   ]
  },
  {
   "cell_type": "markdown",
   "id": "59e81ce1",
   "metadata": {},
   "source": [
    "Korelasi antara banyaknya review tiap bulan dengan jumlah malam penyewaan minimum bernilai -0.13. Nilai korelasi tersebut mendekati 0 yang berarti kedua data tersebut cenderung **tidak berkorelasi**."
   ]
  }
 ],
 "metadata": {
  "kernelspec": {
   "display_name": "Python 3 (ipykernel)",
   "language": "python",
   "name": "python3"
  },
  "language_info": {
   "codemirror_mode": {
    "name": "ipython",
    "version": 3
   },
   "file_extension": ".py",
   "mimetype": "text/x-python",
   "name": "python",
   "nbconvert_exporter": "python",
   "pygments_lexer": "ipython3",
   "version": "3.10.9"
  }
 },
 "nbformat": 4,
 "nbformat_minor": 5
}
